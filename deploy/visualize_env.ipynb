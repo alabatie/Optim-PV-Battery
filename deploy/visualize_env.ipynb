{
 "cells": [
  {
   "cell_type": "code",
   "execution_count": 1,
   "metadata": {},
   "outputs": [
    {
     "name": "stdout",
     "output_type": "stream",
     "text": [
      "Using matplotlib backend: MacOSX\n",
      "Populating the interactive namespace from numpy and matplotlib\n"
     ]
    }
   ],
   "source": [
    "%pylab"
   ]
  },
  {
   "cell_type": "code",
   "execution_count": 2,
   "metadata": {
    "scrolled": false
   },
   "outputs": [],
   "source": [
    "import pickle\n",
    "import numpy as np"
   ]
  },
  {
   "cell_type": "code",
   "execution_count": 3,
   "metadata": {},
   "outputs": [],
   "source": [
    "pickle_path = '../output/policy/env/env_s32_b2_p1.p'\n",
    "with open(pickle_path, \"rb\") as f:\n",
    "     t = pickle.load(f)\n",
    "        \n",
    "(battery_charge, battery_energy, actual_consumption, actual_pv, grid_energy,price_sell, price_buy, money_saved, score) = t"
   ]
  },
  {
   "cell_type": "code",
   "execution_count": 4,
   "metadata": {},
   "outputs": [
    {
     "data": {
      "text/plain": [
       "<matplotlib.legend.Legend at 0x10c8165c0>"
      ]
     },
     "execution_count": 4,
     "metadata": {},
     "output_type": "execute_result"
    }
   ],
   "source": [
    "plot(actual_consumption.values*4, 'b')\n",
    "plot(actual_pv.values*4, 'g')\n",
    "plot(np.array(battery_energy), 'c')\n",
    "twinx()\n",
    "plot(price_buy.values[0], 'b')\n",
    "plot(price_buy.values[0], 'g')\n",
    "plot(price_buy.values[0], 'c')\n",
    "plot(price_buy.values, 'r')\n",
    "plot(price_sell.values, 'k')\n",
    "legend(['load', 'pv', 'battery energy', 'price buy', 'price sell'], fontsize=14, loc=1)"
   ]
  },
  {
   "cell_type": "code",
   "execution_count": null,
   "metadata": {},
   "outputs": [],
   "source": []
  }
 ],
 "metadata": {
  "kernelspec": {
   "display_name": "Python 3",
   "language": "python",
   "name": "python3"
  },
  "language_info": {
   "codemirror_mode": {
    "name": "ipython",
    "version": 3
   },
   "file_extension": ".py",
   "mimetype": "text/x-python",
   "name": "python",
   "nbconvert_exporter": "python",
   "pygments_lexer": "ipython3",
   "version": "3.6.4"
  }
 },
 "nbformat": 4,
 "nbformat_minor": 1
}

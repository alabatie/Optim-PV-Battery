{
 "cells": [
  {
   "cell_type": "code",
   "execution_count": 1,
   "metadata": {},
   "outputs": [
    {
     "name": "stdout",
     "output_type": "stream",
     "text": [
      "Using matplotlib backend: TkAgg\n",
      "Populating the interactive namespace from numpy and matplotlib\n"
     ]
    }
   ],
   "source": [
    "%pylab"
   ]
  },
  {
   "cell_type": "code",
   "execution_count": 2,
   "metadata": {
    "scrolled": false
   },
   "outputs": [
    {
     "name": "stderr",
     "output_type": "stream",
     "text": [
      "/anaconda3/envs/py37/lib/python3.6/site-packages/matplotlib/__init__.py:886: MatplotlibDeprecationWarning: \n",
      "examples.directory is deprecated; in the future, examples will be found relative to the 'datapath' directory.\n",
      "  \"found relative to the 'datapath' directory.\".format(key))\n"
     ]
    }
   ],
   "source": [
    "import pickle\n",
    "import numpy as np\n",
    "\n",
    "import seaborn as sns\n",
    "from matplotlib import rc\n",
    "\n",
    "import matplotlib.gridspec as gridspec\n",
    "from matplotlib import rc\n"
   ]
  },
  {
   "cell_type": "code",
   "execution_count": 7,
   "metadata": {},
   "outputs": [],
   "source": [
    "id_site = 12\n",
    "id_period = 5\n",
    "\n",
    "pickle_path = \"../output/policy/norms/norm_s\" + str(id_site) + \".p\"\n",
    "with open(pickle_path, \"rb\") as f:\n",
    "     norm = pickle.load(f)\n",
    "\n",
    "pickle_path = \"../output/policy/env/env_s\" + str(id_site) + \"_b2_p\" + str(id_period) + \".p\"\n",
    "with open(pickle_path, \"rb\") as f:\n",
    "     t = pickle.load(f)\n",
    "        \n",
    "(battery_charge, battery_energy, actual_consumption, actual_pv, grid_energy,price_sell, price_buy, money_saved, score) = t"
   ]
  },
  {
   "cell_type": "code",
   "execution_count": 8,
   "metadata": {},
   "outputs": [],
   "source": [
    "# plot params\n",
    "sns.set_style(\"white\", {\"axes.facecolor\": \".98\"})\n",
    "\n",
    "rc('font',**{'family':'serif','serif':['Palatino']})\n",
    "rc('text', usetex=True)\n",
    "plt.rcParams['text.latex.preamble']=[r\"\\usepackage{amsmath}\"]\n",
    "\n",
    "fig = plt.figure(tight_layout=False, figsize=(16.5, 8.5))\n",
    "\n",
    "fontsize_ns = 24\n",
    "fontsize_sub = 20\n",
    "\n",
    "c1 = sns.xkcd_rgb['blue']\n",
    "c2 = sns.xkcd_rgb['green']\n",
    "c3 = sns.xkcd_rgb['aqua']\n",
    "\n",
    "c4 = sns.xkcd_rgb['red']\n",
    "c5 = sns.xkcd_rgb['purple']\n",
    "c6 = sns.xkcd_rgb['orange']\n",
    "\n",
    "savings = np.cumsum(money_saved) / np.sum(money_saved) / 20.\n",
    "\n",
    "plot(actual_consumption.values*4/1000., c1)\n",
    "plot(actual_pv.values*4/1000., c2)\n",
    "plot(np.maximum(np.array(battery_energy)[1:]-np.array(battery_energy)[:-1], 0)*4/1000., c3)\n",
    "plot(-np.minimum(np.array(battery_energy)[1:]-np.array(battery_energy)[:-1], 0)*4/1000., c5)\n",
    "plt.ylabel('Power (kW)', fontsize=18)\n",
    "plt.tick_params(labelsize=14)\n",
    "plt.ylim([0,800])\n",
    "plt.xlim([0,960])\n",
    "\n",
    "twinx()\n",
    "plot(price_buy.values[0]*norm['price'], c1)\n",
    "plot(price_buy.values[0]*norm['price'], c2)\n",
    "plot(price_buy.values[0]*norm['price'], c3)\n",
    "plot(price_buy.values[0]*norm['price'], c5)\n",
    "plot(price_buy.values*norm['price'], c4)\n",
    "plot(price_sell.values*norm['price'], c4, linestyle='--')\n",
    "plot(savings, c6)\n",
    "plt.legend(['load', 'pv', 'battery charging power', 'battery discharging power', 'price buy', 'price sell','aggregate reward'], fontsize=16, loc=1)\n",
    "plt.ylabel('Price (€/kW)', fontsize=18)\n",
    "plt.tick_params(labelsize=14)\n",
    "plt.tick_params(labelsize=14)\n",
    "plt.ylim([min(savings),1.7*max(savings)])\n",
    "plt.xlim([0,960])\n",
    "\n",
    "img_path = \"../output/policy/img/simulation_s\" + str(id_site) + \"_b2_p\" + str(id_period) + \".png\"\n",
    "\n",
    "plt.savefig(img_path, format='png')\n"
   ]
  },
  {
   "cell_type": "code",
   "execution_count": null,
   "metadata": {},
   "outputs": [],
   "source": []
  },
  {
   "cell_type": "code",
   "execution_count": null,
   "metadata": {},
   "outputs": [],
   "source": []
  }
 ],
 "metadata": {
  "kernelspec": {
   "display_name": "Python 3",
   "language": "python",
   "name": "python3"
  },
  "language_info": {
   "codemirror_mode": {
    "name": "ipython",
    "version": 3
   },
   "file_extension": ".py",
   "mimetype": "text/x-python",
   "name": "python",
   "nbconvert_exporter": "python",
   "pygments_lexer": "ipython3",
   "version": "3.6.7"
  }
 },
 "nbformat": 4,
 "nbformat_minor": 1
}

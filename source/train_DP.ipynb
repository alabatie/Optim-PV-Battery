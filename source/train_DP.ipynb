{
 "cells": [
  {
   "cell_type": "code",
   "execution_count": 2,
   "metadata": {},
   "outputs": [],
   "source": [
    "ID_GPU = 0  # set active GPU here (if no GPU is available, this has no effect - if specified GPU is unexisting, it forces CPU)"
   ]
  },
  {
   "cell_type": "code",
   "execution_count": 3,
   "metadata": {},
   "outputs": [
    {
     "name": "stderr",
     "output_type": "stream",
     "text": [
      "Using TensorFlow backend.\n",
      "/home/antoine/miniconda3/envs/py36/lib/python3.6/importlib/_bootstrap.py:219: RuntimeWarning: compiletime version 3.5 of module 'tensorflow.python.framework.fast_tensor_util' does not match runtime version 3.6\n",
      "  return f(*args, **kwds)\n"
     ]
    }
   ],
   "source": [
    "import os\n",
    "os.environ[\"CUDA_VISIBLE_DEVICES\"] = str(ID_GPU)\n",
    "\n",
    "from keras import backend as K\n",
    "import tensorflow as tf\n",
    "\n",
    "config = tf.ConfigProto()\n",
    "config.gpu_options.allow_growth = True\n",
    "sess = tf.Session(config=config)\n",
    "K.set_session(sess)"
   ]
  },
  {
   "cell_type": "code",
   "execution_count": 4,
   "metadata": {
    "scrolled": false
   },
   "outputs": [],
   "source": [
    "import pandas as pd\n",
    "from dateutil import parser\n",
    "from pathlib import Path\n",
    "\n",
    "import pickle\n",
    "import numpy as np\n",
    "\n",
    "from DP.battery import Battery\n",
    "from DP.simulation import Simulation\n",
    "from DP.DP_model import DP_model, learning_rate_reduction\n",
    "\n",
    "from DP.constants import NUM_THREADS, NUM_MODELS"
   ]
  },
  {
   "cell_type": "code",
   "execution_count": 5,
   "metadata": {},
   "outputs": [
    {
     "name": "stdout",
     "output_type": "stream",
     "text": [
      "[1, 2, 3, 4, 7, 10, 11, 12, 29, 31, 32]\n"
     ]
    }
   ],
   "source": [
    "# list of site ids\n",
    "id_list = [int(name.split('.')[0]) for name in os.listdir('../data/train')]\n",
    "id_list = sorted(id_list)\n",
    "print(id_list)"
   ]
  },
  {
   "cell_type": "code",
   "execution_count": null,
   "metadata": {
    "scrolled": false
   },
   "outputs": [
    {
     "name": "stdout",
     "output_type": "stream",
     "text": [
      "                     \n",
      "---------------------\n",
      "site 29\n",
      "---------------------\n",
      "                     \n",
      "                 \n",
      "   --------------\n",
      "   imodel 47\n",
      "   --------------\n",
      "                 \n",
      "Epoch 1/1\n",
      "3125/3125 [==============================] - 104s 33ms/step - loss: 0.7541 - Qvalue_MSE_loss: 0.7541 - Qvalue_MAP_loss: 0.1172 - score_fair_loss: -0.0647 - val_loss: 0.2921 - val_Qvalue_MSE_loss: 0.2921 - val_Qvalue_MAP_loss: 0.0885 - val_score_fair_loss: -0.0895\n",
      "Epoch 2/2\n",
      "3125/3125 [==============================] - 105s 34ms/step - loss: 0.2826 - Qvalue_MSE_loss: 0.2826 - Qvalue_MAP_loss: 0.0867 - score_fair_loss: -0.0849 - val_loss: 0.3272 - val_Qvalue_MSE_loss: 0.3272 - val_Qvalue_MAP_loss: 0.0860 - val_score_fair_loss: -0.1460\n",
      "Epoch 3/3\n",
      "3125/3125 [==============================] - 102s 33ms/step - loss: 0.2198 - Qvalue_MSE_loss: 0.2198 - Qvalue_MAP_loss: 0.0810 - score_fair_loss: -0.1149 - val_loss: 0.1449 - val_Qvalue_MSE_loss: 0.1449 - val_Qvalue_MAP_loss: 0.0747 - val_score_fair_loss: -0.1051\n",
      "Epoch 4/4\n",
      "3125/3125 [==============================] - 102s 33ms/step - loss: 0.1903 - Qvalue_MSE_loss: 0.1903 - Qvalue_MAP_loss: 0.0733 - score_fair_loss: -0.0875 - val_loss: 0.1953 - val_Qvalue_MSE_loss: 0.1953 - val_Qvalue_MAP_loss: 0.0738 - val_score_fair_loss: -0.0647\n",
      "Epoch 5/5\n",
      "3125/3125 [==============================] - 102s 33ms/step - loss: 0.1710 - Qvalue_MSE_loss: 0.1710 - Qvalue_MAP_loss: 0.0720 - score_fair_loss: -0.0707 - val_loss: 0.2326 - val_Qvalue_MSE_loss: 0.2326 - val_Qvalue_MAP_loss: 0.0684 - val_score_fair_loss: -0.0337\n",
      "Epoch 6/6\n",
      "3125/3125 [==============================] - 102s 33ms/step - loss: 0.1569 - Qvalue_MSE_loss: 0.1569 - Qvalue_MAP_loss: 0.0704 - score_fair_loss: -0.0997 - val_loss: 0.1332 - val_Qvalue_MSE_loss: 0.1332 - val_Qvalue_MAP_loss: 0.0703 - val_score_fair_loss: -0.1068\n",
      "Epoch 7/7\n",
      "3125/3125 [==============================] - 101s 32ms/step - loss: 0.1475 - Qvalue_MSE_loss: 0.1475 - Qvalue_MAP_loss: 0.0690 - score_fair_loss: -0.1022 - val_loss: 0.1306 - val_Qvalue_MSE_loss: 0.1306 - val_Qvalue_MAP_loss: 0.0661 - val_score_fair_loss: -0.1212\n",
      "Epoch 8/8\n",
      "3125/3125 [==============================] - 100s 32ms/step - loss: 0.1447 - Qvalue_MSE_loss: 0.1447 - Qvalue_MAP_loss: 0.0664 - score_fair_loss: -0.1247 - val_loss: 0.1069 - val_Qvalue_MSE_loss: 0.1069 - val_Qvalue_MAP_loss: 0.0551 - val_score_fair_loss: -0.0280\n",
      "Epoch 9/9\n",
      "3125/3125 [==============================] - 103s 33ms/step - loss: 0.1368 - Qvalue_MSE_loss: 0.1368 - Qvalue_MAP_loss: 0.0644 - score_fair_loss: -0.0884 - val_loss: 0.1630 - val_Qvalue_MSE_loss: 0.1630 - val_Qvalue_MAP_loss: 0.0710 - val_score_fair_loss: -0.0177\n",
      "Epoch 10/10\n",
      "3125/3125 [==============================] - 103s 33ms/step - loss: 0.1318 - Qvalue_MSE_loss: 0.1318 - Qvalue_MAP_loss: 0.0643 - score_fair_loss: -0.0918 - val_loss: 0.0983 - val_Qvalue_MSE_loss: 0.0983 - val_Qvalue_MAP_loss: 0.0619 - val_score_fair_loss: -0.0157\n",
      "Epoch 11/11\n",
      "3125/3125 [==============================] - 100s 32ms/step - loss: 0.1405 - Qvalue_MSE_loss: 0.1405 - Qvalue_MAP_loss: 0.0657 - score_fair_loss: -0.1063 - val_loss: 0.1105 - val_Qvalue_MSE_loss: 0.1105 - val_Qvalue_MAP_loss: 0.0638 - val_score_fair_loss: -0.1445\n",
      "Epoch 12/12\n",
      "3125/3125 [==============================] - 98s 32ms/step - loss: 0.1298 - Qvalue_MSE_loss: 0.1298 - Qvalue_MAP_loss: 0.0621 - score_fair_loss: -0.1204 - val_loss: 0.1078 - val_Qvalue_MSE_loss: 0.1078 - val_Qvalue_MAP_loss: 0.0752 - val_score_fair_loss: -0.0678\n",
      "Epoch 13/13\n",
      "3125/3125 [==============================] - 99s 32ms/step - loss: 0.1199 - Qvalue_MSE_loss: 0.1199 - Qvalue_MAP_loss: 0.0618 - score_fair_loss: -0.0788 - val_loss: 0.1016 - val_Qvalue_MSE_loss: 0.1016 - val_Qvalue_MAP_loss: 0.0600 - val_score_fair_loss: -0.1160\n",
      "Epoch 14/14\n",
      "3125/3125 [==============================] - 99s 32ms/step - loss: 0.1242 - Qvalue_MSE_loss: 0.1242 - Qvalue_MAP_loss: 0.0640 - score_fair_loss: -0.1209 - val_loss: 0.1144 - val_Qvalue_MSE_loss: 0.1144 - val_Qvalue_MAP_loss: 0.0596 - val_score_fair_loss: -0.1760\n",
      "Epoch 15/15\n",
      "3125/3125 [==============================] - 102s 33ms/step - loss: 0.1281 - Qvalue_MSE_loss: 0.1281 - Qvalue_MAP_loss: 0.0640 - score_fair_loss: -0.0705 - val_loss: 0.1070 - val_Qvalue_MSE_loss: 0.1070 - val_Qvalue_MAP_loss: 0.0663 - val_score_fair_loss: -0.1118\n",
      "Epoch 16/16\n",
      "3125/3125 [==============================] - 103s 33ms/step - loss: 0.1158 - Qvalue_MSE_loss: 0.1158 - Qvalue_MAP_loss: 0.0614 - score_fair_loss: -0.0965 - val_loss: 0.1098 - val_Qvalue_MSE_loss: 0.1098 - val_Qvalue_MAP_loss: 0.0553 - val_score_fair_loss: -0.0691\n",
      "Epoch 17/17\n",
      "3125/3125 [==============================] - 100s 32ms/step - loss: 0.1145 - Qvalue_MSE_loss: 0.1145 - Qvalue_MAP_loss: 0.0602 - score_fair_loss: -0.0878 - val_loss: 0.1013 - val_Qvalue_MSE_loss: 0.1013 - val_Qvalue_MAP_loss: 0.0593 - val_score_fair_loss: -0.0485\n",
      "Epoch 18/18\n",
      "3125/3125 [==============================] - 98s 31ms/step - loss: 0.1119 - Qvalue_MSE_loss: 0.1119 - Qvalue_MAP_loss: 0.0591 - score_fair_loss: -0.0924 - val_loss: 0.0888 - val_Qvalue_MSE_loss: 0.0888 - val_Qvalue_MAP_loss: 0.0582 - val_score_fair_loss: -0.0406\n",
      "Epoch 19/19\n",
      "3125/3125 [==============================] - 98s 31ms/step - loss: 0.1093 - Qvalue_MSE_loss: 0.1093 - Qvalue_MAP_loss: 0.0603 - score_fair_loss: -0.0970 - val_loss: 0.1203 - val_Qvalue_MSE_loss: 0.1203 - val_Qvalue_MAP_loss: 0.0549 - val_score_fair_loss: -0.1443\n",
      "Epoch 20/20\n",
      "3125/3125 [==============================] - 97s 31ms/step - loss: 0.1135 - Qvalue_MSE_loss: 0.1135 - Qvalue_MAP_loss: 0.0606 - score_fair_loss: -0.0641 - val_loss: 0.1095 - val_Qvalue_MSE_loss: 0.1095 - val_Qvalue_MAP_loss: 0.0577 - val_score_fair_loss: -0.1623\n",
      "Epoch 21/21\n",
      "3125/3125 [==============================] - 101s 32ms/step - loss: 0.1058 - Qvalue_MSE_loss: 0.1058 - Qvalue_MAP_loss: 0.0608 - score_fair_loss: -0.0810 - val_loss: 0.1175 - val_Qvalue_MSE_loss: 0.1175 - val_Qvalue_MAP_loss: 0.0585 - val_score_fair_loss: -0.0167\n",
      "Epoch 22/22\n",
      "3125/3125 [==============================] - 99s 32ms/step - loss: 0.1078 - Qvalue_MSE_loss: 0.1078 - Qvalue_MAP_loss: 0.0602 - score_fair_loss: -0.0799 - val_loss: 0.1078 - val_Qvalue_MSE_loss: 0.1078 - val_Qvalue_MAP_loss: 0.0607 - val_score_fair_loss: -0.0965\n",
      "Epoch 23/23\n",
      "3125/3125 [==============================] - 98s 31ms/step - loss: 0.1088 - Qvalue_MSE_loss: 0.1088 - Qvalue_MAP_loss: 0.0594 - score_fair_loss: -0.1031 - val_loss: 0.1155 - val_Qvalue_MSE_loss: 0.1155 - val_Qvalue_MAP_loss: 0.0648 - val_score_fair_loss: 0.0086\n",
      "Epoch 24/24\n",
      " 882/3125 [=======>......................] - ETA: 1:02 - loss: 0.1048 - Qvalue_MSE_loss: 0.1048 - Qvalue_MAP_loss: 0.0577 - score_fair_loss: -0.1447"
     ]
    }
   ],
   "source": [
    "for site_id in [29]:\n",
    "    print(\"                     \")\n",
    "    print(\"---------------------\")\n",
    "    print(\"site\", site_id)\n",
    "    print(\"---------------------\")\n",
    "    print(\"                     \")\n",
    "    \n",
    "    ## Fix random seed\n",
    "    np.random.seed(1)\n",
    "    tf.set_random_seed(2)\n",
    "\n",
    "    simulation_dir = (Path(os.getcwd())/os.pardir).resolve()\n",
    "    data_dir = simulation_dir/'data'\n",
    "\n",
    "    # Load data from battery\n",
    "    metadata_path = data_dir/'metadata.csv'\n",
    "    metadata = pd.read_csv(metadata_path, index_col=0)\n",
    "    battery_parameters = metadata.loc[site_id]\n",
    "\n",
    "    batt = {}\n",
    "    for batt_id in [1, 2]:\n",
    "        batt[batt_id] = Battery(capacity=battery_parameters[f\"Battery_{batt_id}_Capacity\"] * 1000,\n",
    "                                charging_power_limit=battery_parameters[f\"Battery_{batt_id}_Power\"] * 1000,\n",
    "                                discharging_power_limit=-battery_parameters[f\"Battery_{batt_id}_Power\"] * 1000,\n",
    "                                charging_efficiency=battery_parameters[f\"Battery_{batt_id}_Charge_Efficiency\"],\n",
    "                                discharging_efficiency=battery_parameters[f\"Battery_{batt_id}_Discharge_Efficiency\"])\n",
    "\n",
    "    # Load data from site\n",
    "    df = {}\n",
    "    for type_simu in [\"train\", \"submit\"]:\n",
    "        site_data_path = data_dir/f\"{type_simu}\"/f\"{site_id}.csv\"\n",
    "\n",
    "        df[type_simu] = pd.read_csv(site_data_path)\n",
    "        df[type_simu].index = [parser.parse(date_str) for date_str in df[type_simu]['timestamp']]\n",
    "\n",
    "    # factors for normalizing inputs\n",
    "    norm = {}\n",
    "    norm[\"battery\"] = batt[2].capacity\n",
    "    norm[\"load\"] = np.max(df[\"train\"].actual_consumption)\n",
    "    norm[\"pv\"] = np.max(df[\"train\"].actual_pv)\n",
    "    norm[\"price\"] = np.max(df[\"train\"].price_buy_00)\n",
    "\n",
    "    # simu (used for precomputations)\n",
    "    simu = {}\n",
    "    for type_simu in [\"train\", \"submit\"]:\n",
    "        simu[type_simu] = Simulation(df[type_simu], norm, num_threads=NUM_THREADS)\n",
    "        simu[type_simu].precompute()\n",
    "\n",
    "    # save norm in pickle file (to be used at deploy time)\n",
    "    pickle_path = f'../output/DP/norms/norm_s{site_id}.p'\n",
    "    with open(pickle_path, 'wb') as f:\n",
    "        pickle.dump(norm, f)\n",
    "        \n",
    "    dp_model = {}\n",
    "    for imodel in range(NUM_MODELS)[::-1]:\n",
    "        print(\"                 \")\n",
    "        print(\"   --------------\")\n",
    "        print(\"   imodel\", imodel)\n",
    "        print(\"   --------------\")\n",
    "        print(\"                 \")\n",
    "\n",
    "        # create model\n",
    "        if (imodel+1) in dp_model:\n",
    "            dp_next = dp_model[imodel+1]\n",
    "            dp_next.load(site_id)\n",
    "        else:\n",
    "            dp_next = None\n",
    "        dp_model[imodel] = DP_model(imodel, simu, batt, norm, dp_next=dp_next)\n",
    "\n",
    "        # train model\n",
    "        dp_model[imodel].train()\n",
    "\n",
    "        # save and clear\n",
    "        dp_model[imodel].save(site_id)\n",
    "        dp_model[imodel].clear()"
   ]
  },
  {
   "cell_type": "code",
   "execution_count": null,
   "metadata": {},
   "outputs": [],
   "source": []
  }
 ],
 "metadata": {
  "kernelspec": {
   "display_name": "Python 3",
   "language": "python",
   "name": "python3"
  },
  "language_info": {
   "codemirror_mode": {
    "name": "ipython",
    "version": 3
   },
   "file_extension": ".py",
   "mimetype": "text/x-python",
   "name": "python",
   "nbconvert_exporter": "python",
   "pygments_lexer": "ipython3",
   "version": "3.6.4"
  }
 },
 "nbformat": 4,
 "nbformat_minor": 1
}

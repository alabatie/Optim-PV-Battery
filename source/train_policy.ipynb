{
 "cells": [
  {
   "cell_type": "code",
   "execution_count": 4,
   "metadata": {},
   "outputs": [],
   "source": [
    "ID_GPU = 1  # set active GPU here (if no GPU is available, this has no effect)"
   ]
  },
  {
   "cell_type": "code",
   "execution_count": 5,
   "metadata": {},
   "outputs": [
    {
     "name": "stderr",
     "output_type": "stream",
     "text": [
      "Using TensorFlow backend.\n"
     ]
    }
   ],
   "source": [
    "import os\n",
    "os.environ[\"CUDA_VISIBLE_DEVICES\"] = str(ID_GPU)\n",
    "\n",
    "from keras import backend as K\n",
    "import tensorflow as tf\n",
    "\n",
    "config = tf.ConfigProto()\n",
    "config.gpu_options.allow_growth = True\n",
    "sess = tf.Session(config=config)\n",
    "K.set_session(sess)"
   ]
  },
  {
   "cell_type": "code",
   "execution_count": 6,
   "metadata": {
    "scrolled": false
   },
   "outputs": [],
   "source": [
    "import pandas as pd\n",
    "from dateutil import parser\n",
    "from pathlib import Path\n",
    "\n",
    "import pickle\n",
    "import numpy as np\n",
    "\n",
    "from policy.battery import Battery\n",
    "from policy.simulation import Simulation\n",
    "from policy.policy import Policy\n",
    "\n",
    "from policy.constants import NUM_THREADS"
   ]
  },
  {
   "cell_type": "code",
   "execution_count": 7,
   "metadata": {},
   "outputs": [
    {
     "name": "stdout",
     "output_type": "stream",
     "text": [
      "[1, 2, 3, 4, 7, 10, 11, 12, 29, 31, 32]\n"
     ]
    }
   ],
   "source": [
    "# list of site ids\n",
    "site_id_list = [int(name.split('.')[0]) for name in os.listdir('../data/train')]\n",
    "site_id_list = sorted(site_id_list)\n",
    "print(site_id_list)"
   ]
  },
  {
   "cell_type": "code",
   "execution_count": 9,
   "metadata": {
    "scrolled": false
   },
   "outputs": [
    {
     "name": "stdout",
     "output_type": "stream",
     "text": [
      "                     \n",
      "---------------------\n",
      "site 7\n",
      "---------------------\n",
      "                     \n",
      "                     \n",
      "---------------------\n",
      "site 12\n",
      "---------------------\n",
      "                     \n",
      "                     \n",
      "---------------------\n",
      "site 29\n",
      "---------------------\n",
      "                     \n",
      "                     \n",
      "---------------------\n",
      "site 31\n",
      "---------------------\n",
      "                     \n"
     ]
    }
   ],
   "source": [
    "for site_id in [7, 12, 29, 31]:\n",
    "    print(\"                     \")\n",
    "    print(\"---------------------\")\n",
    "    print(\"site\", site_id)\n",
    "    print(\"---------------------\")\n",
    "    print(\"                     \")\n",
    "    \n",
    "    ## Fix random seed\n",
    "    np.random.seed(1)\n",
    "    tf.set_random_seed(2)\n",
    "\n",
    "    simulation_dir = (Path(os.getcwd())/os.pardir).resolve()\n",
    "    data_dir = simulation_dir/'data'\n",
    "\n",
    "    # Load data from battery\n",
    "    metadata_path = data_dir/'metadata.csv'\n",
    "    metadata = pd.read_csv(metadata_path, index_col=0)\n",
    "    battery_parameters = metadata.loc[site_id]\n",
    "\n",
    "    batt = {}\n",
    "    for batt_id in [1, 2]:\n",
    "        batt[batt_id] = Battery(capacity=battery_parameters[f\"Battery_{batt_id}_Capacity\"] * 1000,\n",
    "                                charging_power_limit=battery_parameters[f\"Battery_{batt_id}_Power\"] * 1000,\n",
    "                                discharging_power_limit=-battery_parameters[f\"Battery_{batt_id}_Power\"] * 1000,\n",
    "                                charging_efficiency=battery_parameters[f\"Battery_{batt_id}_Charge_Efficiency\"],\n",
    "                                discharging_efficiency=battery_parameters[f\"Battery_{batt_id}_Discharge_Efficiency\"])\n",
    "\n",
    "    # Load data from site\n",
    "    df = {}\n",
    "    for type_simu in [\"train\", \"submit\"]:\n",
    "        site_data_path = data_dir/f\"{type_simu}\"/f\"{site_id}.csv\"\n",
    "\n",
    "        df[type_simu] = pd.read_csv(site_data_path)\n",
    "        df[type_simu].index = [parser.parse(date_str) for date_str in df[type_simu]['timestamp']]\n",
    "\n",
    "    # factors for normalizing inputs\n",
    "    norm = {}\n",
    "    norm[\"battery\"] = batt[2].capacity\n",
    "    norm[\"load\"] = np.max(df[\"train\"].actual_consumption)\n",
    "    norm[\"pv\"] = np.max(df[\"train\"].actual_pv)\n",
    "    norm[\"price\"] = np.max(df[\"train\"].price_buy_00)\n",
    "\n",
    "    # simu (used for precomputations)\n",
    "    simu = {}\n",
    "    for type_simu in [\"train\", \"submit\"]:\n",
    "        simu[type_simu] = Simulation(df[type_simu], norm, num_threads=NUM_THREADS)\n",
    "        simu[type_simu].precompute()\n",
    "    \n",
    "    # save norm in pickle file (to be used at deploy time)\n",
    "    pickle_path = f'../output/policy/norms/norm_s{site_id}.p'\n",
    "    with open(pickle_path, 'wb') as f:\n",
    "        pickle.dump(norm, f)\n",
    "    \n",
    "    \"\"\"\n",
    "    # train policy\n",
    "    p = Policy(simu, batt, norm)\n",
    "    p.train()\n",
    "    \n",
    "    # save deploy model\n",
    "    p.save(site_id)\n",
    "    \n",
    "    # clear everything\n",
    "    K.clear_session()\n",
    "    df = {}\n",
    "    simu = {}\n",
    "    \"\"\""
   ]
  },
  {
   "cell_type": "code",
   "execution_count": null,
   "metadata": {},
   "outputs": [],
   "source": []
  },
  {
   "cell_type": "code",
   "execution_count": null,
   "metadata": {},
   "outputs": [],
   "source": []
  }
 ],
 "metadata": {
  "kernelspec": {
   "display_name": "Python 3",
   "language": "python",
   "name": "python3"
  },
  "language_info": {
   "codemirror_mode": {
    "name": "ipython",
    "version": 3
   },
   "file_extension": ".py",
   "mimetype": "text/x-python",
   "name": "python",
   "nbconvert_exporter": "python",
   "pygments_lexer": "ipython3",
   "version": "3.6.7"
  }
 },
 "nbformat": 4,
 "nbformat_minor": 1
}
